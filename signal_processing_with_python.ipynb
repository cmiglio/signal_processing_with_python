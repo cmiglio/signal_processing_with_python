{
 "cells": [
  {
   "cell_type": "markdown",
   "metadata": {
    "colab_type": "text",
    "id": "view-in-github"
   },
   "source": [
    "<a href=\"https://colab.research.google.com/github/cmiglio/signal_processing_with_python/blob/master/signal_processing_with_python.ipynb\" target=\"_parent\"><img src=\"https://colab.research.google.com/assets/colab-badge.svg\" alt=\"Open In Colab\"/></a>"
   ]
  },
  {
   "cell_type": "markdown",
   "metadata": {
    "colab_type": "text",
    "id": "FwVBvHPis7yX"
   },
   "source": [
    "# Signal analysis with python\n",
    "\n",
    "*Carolina Migliorelli*\n"
   ]
  },
  {
   "cell_type": "markdown",
   "metadata": {
    "colab_type": "text",
    "id": "iBiHXfZTs7yd"
   },
   "source": [
    "The purpose of this workshop is to show an example on how to work with Python with signals. \n",
    "We will give some general ideas on how to **read, process and visualize data**\n",
    "\n",
    "We will use some common python toolboxes: \n",
    "* [numpy](https://numpy.org/): It contains the main functions to work with matrices (very similar to Matlab)\n",
    "* [pandas](https://pandas.pydata.org/): A way of organizing the data\n",
    "* [seaborn](https://seaborn.pydata.org/): A visualization library with nice plots (that use in its backgroud [matplotlib](https://matplotlib.org/).\n",
    "* [scipy](https://www.scipy.org/): We will use scipy to load mat files and also to do some signal processing (find peaks)\n",
    "* [mne](https://mne.tools/stable/index.html): A package for analyzing human neurophysiological data\n",
    "\n",
    "For this workshop, we will load data from one epileptic patient and we will extract some events of interest. We will plot the time-frequency representation of these events using the stockwell transform and we will save into a dataframe structure (a table) some meaningful features."
   ]
  },
  {
   "cell_type": "markdown",
   "metadata": {
    "colab_type": "text",
    "id": "8-QLqlAEs7yg"
   },
   "source": [
    "## 0. Installing packages\n",
    "If you don't have installed the toolboxes, then you should install them. "
   ]
  },
  {
   "cell_type": "code",
   "execution_count": null,
   "metadata": {
    "colab": {
     "base_uri": "https://localhost:8080/",
     "height": 436
    },
    "colab_type": "code",
    "id": "9Y824zqOs7yk",
    "outputId": "0e9168d7-fb05-4463-93af-89c9f71de26e"
   },
   "outputs": [
    {
     "name": "stdout",
     "output_type": "stream",
     "text": [
      "Requirement already satisfied: numpy in /usr/local/lib/python3.6/dist-packages (1.17.5)\n",
      "Requirement already satisfied: pandas in /usr/local/lib/python3.6/dist-packages (0.25.3)\n",
      "Requirement already satisfied: seaborn in /usr/local/lib/python3.6/dist-packages (0.9.0)\n",
      "Requirement already satisfied: scipy in /usr/local/lib/python3.6/dist-packages (1.4.1)\n",
      "Collecting mne\n",
      "\u001b[?25l  Downloading https://files.pythonhosted.org/packages/a1/7c/ad1b52a3fdd4be8f55e183f1eff7d76f48cd1bee83c5630f9c26770e032e/mne-0.19.2-py3-none-any.whl (6.4MB)\n",
      "\u001b[K     |████████████████████████████████| 6.4MB 3.4MB/s \n",
      "\u001b[?25hRequirement already satisfied: python-dateutil>=2.6.1 in /usr/local/lib/python3.6/dist-packages (from pandas) (2.6.1)\n",
      "Requirement already satisfied: pytz>=2017.2 in /usr/local/lib/python3.6/dist-packages (from pandas) (2018.9)\n",
      "Requirement already satisfied: matplotlib>=1.4.3 in /usr/local/lib/python3.6/dist-packages (from seaborn) (3.1.2)\n",
      "Requirement already satisfied: six>=1.5 in /usr/local/lib/python3.6/dist-packages (from python-dateutil>=2.6.1->pandas) (1.12.0)\n",
      "Requirement already satisfied: pyparsing!=2.0.4,!=2.1.2,!=2.1.6,>=2.0.1 in /usr/local/lib/python3.6/dist-packages (from matplotlib>=1.4.3->seaborn) (2.4.6)\n",
      "Requirement already satisfied: cycler>=0.10 in /usr/local/lib/python3.6/dist-packages (from matplotlib>=1.4.3->seaborn) (0.10.0)\n",
      "Requirement already satisfied: kiwisolver>=1.0.1 in /usr/local/lib/python3.6/dist-packages (from matplotlib>=1.4.3->seaborn) (1.1.0)\n",
      "Requirement already satisfied: setuptools in /usr/local/lib/python3.6/dist-packages (from kiwisolver>=1.0.1->matplotlib>=1.4.3->seaborn) (42.0.2)\n",
      "Installing collected packages: mne\n",
      "Successfully installed mne-0.19.2\n",
      "Cloning into 'signal_processing_with_python'...\n",
      "remote: Enumerating objects: 12, done.\u001b[K\n",
      "remote: Counting objects: 100% (12/12), done.\u001b[K\n",
      "remote: Compressing objects: 100% (11/11), done.\u001b[K\n",
      "remote: Total 12 (delta 0), reused 3 (delta 0), pack-reused 0\u001b[K\n",
      "Unpacking objects: 100% (12/12), done.\n"
     ]
    }
   ],
   "source": [
    "!pip install numpy pandas seaborn scipy mne\n",
    "!git clone https://github.com/cmiglio/signal_processing_with_python.git"
   ]
  },
  {
   "cell_type": "markdown",
   "metadata": {
    "colab_type": "text",
    "id": "pvPq5qzhs7yx"
   },
   "source": [
    "## 1. Importing packages \n",
    "We will start importing the packages. When we use *import* we import the whole package, with the name that we put after *as*. If we don't want to import the whole package but only some functions, we can use *from*. "
   ]
  },
  {
   "cell_type": "code",
   "execution_count": 91,
   "metadata": {
    "colab": {},
    "colab_type": "code",
    "id": "-iGVTR8Ks7yz"
   },
   "outputs": [],
   "source": [
    "import numpy as np\n",
    "import pandas as pd\n",
    "import seaborn as sns\n",
    "from scipy.io import loadmat\n",
    "from scipy import signal\n",
    "import mne\n",
    "from mne.time_frequency import (tfr_array_stockwell) \n",
    "from matplotlib import pyplot as plt"
   ]
  },
  {
   "cell_type": "markdown",
   "metadata": {
    "colab_type": "text",
    "id": "NZmHKQoxs7y6"
   },
   "source": [
    "## 2. Loading the data\n",
    "### 2.1. Loading the data using loadmat (from scipy)\n",
    "We will load the data that, in this case, is stored in a *.mat* file. We can import data with other formats using MNE ([see here](https://mne.tools/stable/auto_tutorials/io/plot_20_reading_eeg_data.html#sphx-glr-auto-tutorials-io-plot-20-reading-eeg-data-py)). But however, .TRC (micromed) files are not currently included in MNE distribution, so what I did is reading the data with matlab and then save it into a .mat file. If you are interested in knowing how to create the .mat file, I cand send you my routines. "
   ]
  },
  {
   "cell_type": "code",
   "execution_count": 102,
   "metadata": {
    "colab": {},
    "colab_type": "code",
    "id": "jhLOMAx4s7y8"
   },
   "outputs": [],
   "source": [
    "# Files were saved into a structure, you should know the names of each field\n",
    "# in the structure. If not, you can check de names usign structure.keys().\n",
    "# The squeeze_me parameter must be set to True.\n",
    "structure = loadmat('signal_processing_with_python/signals.mat',squeeze_me=True)\n",
    "data = structure['data']\n",
    "sfreq = structure['sfreq']\n",
    "ch_names = structure['ch_names']\n",
    "ch_types = structure['ch_types']\n",
    "differential = structure['differential']\n",
    "average = structure['average']\n",
    "needle_names = structure['needle_names']\n",
    "needle = structure['needle1']\n",
    "pos = structure['pos']"
   ]
  },
  {
   "cell_type": "markdown",
   "metadata": {
    "colab_type": "text",
    "id": "ite9Tyo_s7zD"
   },
   "source": [
    "### 2.2. Creating an mne raw array\n",
    "To work with MNE (and use filters for example), we have to create a data structure that MNE understands.  "
   ]
  },
  {
   "cell_type": "code",
   "execution_count": 103,
   "metadata": {
    "colab": {
     "base_uri": "https://localhost:8080/",
     "height": 69
    },
    "colab_type": "code",
    "id": "aSumsJgCs7zF",
    "outputId": "f2269014-1ff4-494b-99bc-5ce96f288e6c"
   },
   "outputs": [
    {
     "name": "stdout",
     "output_type": "stream",
     "text": [
      "Creating RawArray with float64 data, n_channels=20, n_times=61441\n",
      "    Range : 0 ... 61440 =      0.000 ...    60.000 secs\n",
      "Ready.\n"
     ]
    }
   ],
   "source": [
    "# We have to change the numpy arrays to lists\n",
    "info = mne.create_info(ch_names=ch_names.tolist(), sfreq=sfreq, ch_types=ch_types.tolist())\n",
    "raw = mne.io.RawArray(data, info)"
   ]
  },
  {
   "cell_type": "markdown",
   "metadata": {
    "colab_type": "text",
    "id": "VZbIh8wWs7zK"
   },
   "source": [
    "## 3. Processing data\n",
    "### 3.1. Filtering with MNE\n",
    "We will filter the data above 80 Hz and we will notch the data to remove the line noise (50Hz and the harmonics)"
   ]
  },
  {
   "cell_type": "code",
   "execution_count": 104,
   "metadata": {
    "colab": {
     "base_uri": "https://localhost:8080/",
     "height": 34
    },
    "colab_type": "code",
    "id": "qjMW3lOys7zM",
    "outputId": "3bcd3b7f-5097-4392-aa52-873785977f4c"
   },
   "outputs": [
    {
     "data": {
      "text/plain": [
       "<RawArray  |  None, n_channels x n_times : 20 x 61441 (60.0 sec), ~9.4 MB, data loaded>"
      ]
     },
     "execution_count": 104,
     "metadata": {},
     "output_type": "execute_result"
    }
   ],
   "source": [
    "raw.notch_filter([50, 100, 150, 200, 250], fir_design='firwin',verbose=False)\n",
    "raw80 = raw.copy() # We create a copy of our data\n",
    "raw80.filter(80,None,fir_design='firwin',verbose=False)"
   ]
  },
  {
   "cell_type": "markdown",
   "metadata": {
    "colab_type": "text",
    "id": "6wAkdLIes7zR"
   },
   "source": [
    "### 3.2. Obtaining the envelope of the signal and computing the threshold\n",
    "We want to obtain the envelope of the signal using hilbert and to obtain the events that are higher than a threshold. We will set the threshold to:\n",
    "``` python\n",
    "mean + 5*sd.\n",
    "```\n",
    "(Other more sophisticated methods to obtain the threshold could be applyied)\n"
   ]
  },
  {
   "cell_type": "code",
   "execution_count": 105,
   "metadata": {
    "colab": {},
    "colab_type": "code",
    "id": "fMhBsdh1s7zU"
   },
   "outputs": [],
   "source": [
    "raw_hilb = raw80.copy() # We create a copy of our filtered data\n",
    "raw_hilb.apply_hilbert() # We apply hilbert to obtain the envelope\n",
    "\n",
    "chan_n = 10 # We will compute this for the first channel (in python the first index is 0)\n",
    "\n",
    "data = raw.get_data(picks=chan_n)\n",
    "data80 = raw80.get_data(picks=chan_n)\n",
    "data_hil = np.abs(raw_hilb.get_data(picks=chan_n))\n",
    "th = np.mean(data_hil) + 5*np.std(data_hil)\n",
    "change = np.diff((data_hil[0,:]>th)*1)\n",
    "if change[np.where(change)[0][0]]==-1:\n",
    "    change[np.where(change)[0][0]]=0\n",
    "ch_pos=np.sum(change==1)\n",
    "ch_neg=np.sum(change==-1)\n",
    "if ch_pos>ch_neg:\n",
    "            # Si hay 1 positivo mas que negativo, entonces es que hemos acabado encima del threshold--> descartamos el ultimo positivo\n",
    "    p_aux_ini=np.where(change==1)[0][:-2]\n",
    "    p_aux_fin=np.where(change==-1)[0]\n",
    "elif ch_pos<ch_neg:\n",
    "     # Si hay 1 negativo más que un positivo, entonces es que he empezado encima del threshold--> descartamos el primer negativo\n",
    "    p_aux_ini=np.where(change==1)[0]\n",
    "    p_aux_fin=np.where(change==-1)[0][1:]\n",
    "elif ch_pos==ch_neg:\n",
    "    p_aux_ini=np.where(change==1)[0]\n",
    "    p_aux_fin=np.where(change==-1)[0]\n",
    "eoi = np.array(list(zip(p_aux_ini,p_aux_fin)))\n"
   ]
  },
  {
   "cell_type": "markdown",
   "metadata": {
    "colab_type": "text",
    "id": "CuT-FRGss7zY"
   },
   "source": [
    "Lets see what we have in *eoi*"
   ]
  },
  {
   "cell_type": "code",
   "execution_count": 106,
   "metadata": {
    "colab": {
     "base_uri": "https://localhost:8080/",
     "height": 364
    },
    "colab_type": "code",
    "id": "AfvexvJ3s7za",
    "outputId": "cad0afdb-249e-4c5f-dc8b-8385dc88d0df"
   },
   "outputs": [
    {
     "name": "stdout",
     "output_type": "stream",
     "text": [
      "[[ 2127  2130]\n",
      " [ 2131  2147]\n",
      " [ 7721  7744]\n",
      " [ 7754  7756]\n",
      " [49398 49402]\n",
      " [57009 57010]]\n"
     ]
    }
   ],
   "source": [
    "print(eoi)"
   ]
  },
  {
   "cell_type": "markdown",
   "metadata": {
    "colab": {},
    "colab_type": "code",
    "id": "x3xKVnOGs7ze"
   },
   "source": [
    "## 3. Plotting data\n",
    "\n",
    "We will plot the data of one event using seaborn, we want to plot:\n",
    "* The raw data\n",
    "* The filtered data\n",
    "* The time-frequency distribution computed with stockwell transform"
   ]
  },
  {
   "cell_type": "code",
   "execution_count": 107,
   "metadata": {},
   "outputs": [],
   "source": [
    "# We select which event we want to plot\n",
    "event_to_plot = 1 \n",
    "\n",
    "# We define a window of 500 ms\n",
    "win_size = int(0.5 * sfreq)\n",
    "# We create an epoch (the structure needed by mne)\n",
    "epoch = np.zeros([1,1,win_size*2])\n",
    "epoch80 = np.zeros([1,1,win_size*2])\n",
    "epoch_hil = np.zeros([1,1,win_size*2])\n",
    "\n",
    "mid_event = int((eoi[event_to_plot,0]+ eoi[event_to_plot,1])/2)\n",
    "epoch[0,0,:] = data[:,mid_event-win_size:mid_event+win_size]\n",
    "epoch80[0,0,:] = data80[:,mid_event-win_size:mid_event+win_size]\n",
    "epoch_hil[0,0,:] = data_hil[:,mid_event-win_size:mid_event+win_size]\n",
    "\n",
    "# We compute stockwell\n",
    "fmin = 1\n",
    "fmax = int(sfreq/4)\n",
    "freqs = np.arange(fmin,fmax)\n",
    "\n",
    "pwr = tfr_array_stockwell(epoch, fmin=fmin, fmax=fmax, width=3, sfreq=sfreq, n_fft=int(win_size*2));"
   ]
  },
  {
   "cell_type": "code",
   "execution_count": 108,
   "metadata": {},
   "outputs": [
    {
     "data": {
      "image/png": "[encoded data removed]",
      "text/plain": [
       "<Figure size 576x720 with 3 Axes>"
      ]
     },
     "metadata": {
      "needs_background": "light"
     },
     "output_type": "display_data"
    }
   ],
   "source": [
    "# We plot with seaborn\n",
    "fig_size = (8, 10)\n",
    "fig, ax = plt.subplots(3,figsize=fig_size)\n",
    "plt.autoscale(enable=True, axis='x', tight=True)\n",
    "sns.lineplot(ax=ax[0],data=[epoch[0,0,:],epoch80[0,0,:]])\n",
    "sns.lineplot(ax=ax[1],data=[epoch80[0,0,:],epoch_hil[0,0,:]])\n",
    "sns.heatmap(ax=ax[2],data=pwr[0][0],robust='True',cbar=False)\n",
    "ax[2].set(ylim=freqs[[0, -1]])\n",
    "plt.tight_layout()\n",
    "# To save the image uncomment the next line\n",
    "#fig.savefig('signal_plot.png')"
   ]
  },
  {
   "cell_type": "markdown",
   "metadata": {},
   "source": [
    "## 4. Working with processed data and pandas\n",
    "### 4.1 Creating the dataframe\n",
    "Finally, we will see how to store processed data (features) in a panda's dataframe (a table). With this type of dataframes we can filter data by its characteristics and also plot statistical data. We will compute eois iterating trough all the channels and we will measure some features of that eois. We will save the features into a pandas dataframe. "
   ]
  },
  {
   "cell_type": "code",
   "execution_count": 128,
   "metadata": {},
   "outputs": [],
   "source": [
    "# We obtain a vector that have the size of the channels and other vector with \n",
    "# the same size for the threshold\n",
    "channels_vector = np.arange(0,len(raw80.ch_names)) \n",
    "\n",
    "# Declare empty lists for all the columns of our dataframe\n",
    "# (This is more efficient than appending to pandas in iterative processes)\n",
    "ev_ini = list(); \n",
    "ev_fi = list();     \n",
    "dur_t = list();\n",
    "len_peaks = list();\n",
    "mean_peak = list();\n",
    "channels = list();\n",
    "needles = list();\n",
    "needle_name = list();\n",
    "x = list();\n",
    "y = list();\n",
    "z = list();\n",
    "\n",
    "\n",
    "\n",
    "for chan_n in channels_vector: # We iterate trough the channels\n",
    "    data_80 = raw80.get_data(picks=chan_n) # We obtain the data for one channel\n",
    "    data_hil = np.abs(raw_hilb.get_data(picks=chan_n)) # We obtain the envelope for one channel\n",
    "    th = np.mean(data_hil) + 3*np.std(data_hil)\n",
    "    \n",
    "    # All this code is to detect events of interest that will be saved into eoi\n",
    "    # Where function is similar to find\n",
    "    change = np.diff((data_hil[0,:]>th)*1)\n",
    "    if change[np.where(change)[0][0]]==-1:\n",
    "        change[np.where(change)[0][0]]=0\n",
    "    ch_pos=np.sum(change==1)\n",
    "    ch_neg=np.sum(change==-1)\n",
    "    if ch_pos>ch_neg:\n",
    "        p_aux_ini=np.where(change==1)[0][:-2]\n",
    "        p_aux_fin=np.where(change==-1)[0]\n",
    "    elif ch_pos<ch_neg:\n",
    "        p_aux_ini=np.where(change==1)[0]\n",
    "        p_aux_fin=np.where(change==-1)[0][1:]\n",
    "    elif ch_pos==ch_neg:\n",
    "        p_aux_ini=np.where(change==1)[0]\n",
    "        p_aux_fin=np.where(change==-1)[0]\n",
    "    # We obtain the events of interest\n",
    "    eoi = np.array(list(zip(p_aux_ini,p_aux_fin)))\n",
    "    # Now we iterate through all the EOIs\n",
    "    for event in eoi:\n",
    "        # With append, we update the fields that depend on the event\n",
    "        ev_ini.append(event[0])\n",
    "        ev_fi.append(event[1])\n",
    "        dur_t.append(event[1]-event[0])\n",
    "        \n",
    "        # We use the EOI +/- 10 samples\n",
    "        eoi_data = data_80[0,event[0]-10:event[1]+10]\n",
    "        # Find peaks\n",
    "        peaks = signal.find_peaks(np.abs(eoi_data))\n",
    "        \n",
    "        len_peaks.append(len(peaks[0]))\n",
    "        mean_peak.append(np.mean(np.diff(peaks[0])))\n",
    "    # Now we update the fields that depend on the channel (we have to extend the same value)\n",
    "    channels.extend([ch_names[chan_n]]*len(eoi))\n",
    "    needles.extend([needle[chan_n]]*len(eoi))\n",
    "    needle_name.extend([needle_names[needle[chan_n]]]*len(eoi))\n",
    "    x.extend([pos[chan_n,0]]*len(eoi))\n",
    "    y.extend([pos[chan_n,1]]*len(eoi))\n",
    "    z.extend([pos[chan_n,2]]*len(eoi))\n",
    "        \n",
    "# To create the dataframe, first we will create a list with all the features\n",
    "\n",
    "list_all = list(zip(ev_ini,ev_fi,dur_t,len_peaks,mean_peak,channels,needles,needle_name,x,y,z))\n",
    "# We create the dataframe\n",
    "features = pd.DataFrame(list_all, columns=['Beginning','End','Length','N peaks','Mean Peak','Channel',\n",
    "                                      'Needle','Needle name','x','y','z'])"
   ]
  },
  {
   "cell_type": "markdown",
   "metadata": {},
   "source": [
    "Let's see our dataframe"
   ]
  },
  {
   "cell_type": "code",
   "execution_count": 130,
   "metadata": {},
   "outputs": [
    {
     "data": {
      "text/html": [
       "<div>\n",
       "<style scoped>\n",
       "    .dataframe tbody tr th:only-of-type {\n",
       "        vertical-align: middle;\n",
       "    }\n",
       "\n",
       "    .dataframe tbody tr th {\n",
       "        vertical-align: top;\n",
       "    }\n",
       "\n",
       "    .dataframe thead th {\n",
       "        text-align: right;\n",
       "    }\n",
       "</style>\n",
       "<table border=\"1\" class=\"dataframe\">\n",
       "  <thead>\n",
       "    <tr style=\"text-align: right;\">\n",
       "      <th></th>\n",
       "      <th>Beginning</th>\n",
       "      <th>End</th>\n",
       "      <th>Length</th>\n",
       "      <th>N peaks</th>\n",
       "      <th>Mean Peak</th>\n",
       "      <th>Channel</th>\n",
       "      <th>Needle</th>\n",
       "      <th>Needle name</th>\n",
       "      <th>x</th>\n",
       "      <th>y</th>\n",
       "      <th>z</th>\n",
       "    </tr>\n",
       "  </thead>\n",
       "  <tbody>\n",
       "    <tr>\n",
       "      <th>0</th>\n",
       "      <td>43</td>\n",
       "      <td>44</td>\n",
       "      <td>1</td>\n",
       "      <td>3</td>\n",
       "      <td>5.500000</td>\n",
       "      <td>TOB1</td>\n",
       "      <td>0</td>\n",
       "      <td>TOB</td>\n",
       "      <td>-0.045284</td>\n",
       "      <td>-0.011390</td>\n",
       "      <td>0.038247</td>\n",
       "    </tr>\n",
       "    <tr>\n",
       "      <th>1</th>\n",
       "      <td>689</td>\n",
       "      <td>690</td>\n",
       "      <td>1</td>\n",
       "      <td>6</td>\n",
       "      <td>3.400000</td>\n",
       "      <td>TOB1</td>\n",
       "      <td>0</td>\n",
       "      <td>TOB</td>\n",
       "      <td>-0.045284</td>\n",
       "      <td>-0.011390</td>\n",
       "      <td>0.038247</td>\n",
       "    </tr>\n",
       "    <tr>\n",
       "      <th>2</th>\n",
       "      <td>1188</td>\n",
       "      <td>1190</td>\n",
       "      <td>2</td>\n",
       "      <td>5</td>\n",
       "      <td>4.000000</td>\n",
       "      <td>TOB1</td>\n",
       "      <td>0</td>\n",
       "      <td>TOB</td>\n",
       "      <td>-0.045284</td>\n",
       "      <td>-0.011390</td>\n",
       "      <td>0.038247</td>\n",
       "    </tr>\n",
       "    <tr>\n",
       "      <th>3</th>\n",
       "      <td>1213</td>\n",
       "      <td>1222</td>\n",
       "      <td>9</td>\n",
       "      <td>5</td>\n",
       "      <td>5.000000</td>\n",
       "      <td>TOB1</td>\n",
       "      <td>0</td>\n",
       "      <td>TOB</td>\n",
       "      <td>-0.045284</td>\n",
       "      <td>-0.011390</td>\n",
       "      <td>0.038247</td>\n",
       "    </tr>\n",
       "    <tr>\n",
       "      <th>4</th>\n",
       "      <td>4134</td>\n",
       "      <td>4138</td>\n",
       "      <td>4</td>\n",
       "      <td>5</td>\n",
       "      <td>4.500000</td>\n",
       "      <td>TOB1</td>\n",
       "      <td>0</td>\n",
       "      <td>TOB</td>\n",
       "      <td>-0.045284</td>\n",
       "      <td>-0.011390</td>\n",
       "      <td>0.038247</td>\n",
       "    </tr>\n",
       "    <tr>\n",
       "      <th>...</th>\n",
       "      <td>...</td>\n",
       "      <td>...</td>\n",
       "      <td>...</td>\n",
       "      <td>...</td>\n",
       "      <td>...</td>\n",
       "      <td>...</td>\n",
       "      <td>...</td>\n",
       "      <td>...</td>\n",
       "      <td>...</td>\n",
       "      <td>...</td>\n",
       "      <td>...</td>\n",
       "    </tr>\n",
       "    <tr>\n",
       "      <th>4259</th>\n",
       "      <td>60330</td>\n",
       "      <td>60331</td>\n",
       "      <td>1</td>\n",
       "      <td>8</td>\n",
       "      <td>2.571429</td>\n",
       "      <td>OI10</td>\n",
       "      <td>1</td>\n",
       "      <td>OI</td>\n",
       "      <td>-0.064296</td>\n",
       "      <td>-0.040335</td>\n",
       "      <td>0.040313</td>\n",
       "    </tr>\n",
       "    <tr>\n",
       "      <th>4260</th>\n",
       "      <td>60446</td>\n",
       "      <td>60448</td>\n",
       "      <td>2</td>\n",
       "      <td>6</td>\n",
       "      <td>2.800000</td>\n",
       "      <td>OI10</td>\n",
       "      <td>1</td>\n",
       "      <td>OI</td>\n",
       "      <td>-0.064296</td>\n",
       "      <td>-0.040335</td>\n",
       "      <td>0.040313</td>\n",
       "    </tr>\n",
       "    <tr>\n",
       "      <th>4261</th>\n",
       "      <td>60450</td>\n",
       "      <td>60451</td>\n",
       "      <td>1</td>\n",
       "      <td>6</td>\n",
       "      <td>2.800000</td>\n",
       "      <td>OI10</td>\n",
       "      <td>1</td>\n",
       "      <td>OI</td>\n",
       "      <td>-0.064296</td>\n",
       "      <td>-0.040335</td>\n",
       "      <td>0.040313</td>\n",
       "    </tr>\n",
       "    <tr>\n",
       "      <th>4262</th>\n",
       "      <td>60894</td>\n",
       "      <td>60896</td>\n",
       "      <td>2</td>\n",
       "      <td>6</td>\n",
       "      <td>3.800000</td>\n",
       "      <td>OI10</td>\n",
       "      <td>1</td>\n",
       "      <td>OI</td>\n",
       "      <td>-0.064296</td>\n",
       "      <td>-0.040335</td>\n",
       "      <td>0.040313</td>\n",
       "    </tr>\n",
       "    <tr>\n",
       "      <th>4263</th>\n",
       "      <td>61020</td>\n",
       "      <td>61023</td>\n",
       "      <td>3</td>\n",
       "      <td>7</td>\n",
       "      <td>3.000000</td>\n",
       "      <td>OI10</td>\n",
       "      <td>1</td>\n",
       "      <td>OI</td>\n",
       "      <td>-0.064296</td>\n",
       "      <td>-0.040335</td>\n",
       "      <td>0.040313</td>\n",
       "    </tr>\n",
       "  </tbody>\n",
       "</table>\n",
       "<p>4264 rows × 11 columns</p>\n",
       "</div>"
      ],
      "text/plain": [
       "      Beginning    End  Length  N peaks  Mean Peak Channel  Needle  \\\n",
       "0            43     44       1        3   5.500000    TOB1       0   \n",
       "1           689    690       1        6   3.400000    TOB1       0   \n",
       "2          1188   1190       2        5   4.000000    TOB1       0   \n",
       "3          1213   1222       9        5   5.000000    TOB1       0   \n",
       "4          4134   4138       4        5   4.500000    TOB1       0   \n",
       "...         ...    ...     ...      ...        ...     ...     ...   \n",
       "4259      60330  60331       1        8   2.571429    OI10       1   \n",
       "4260      60446  60448       2        6   2.800000    OI10       1   \n",
       "4261      60450  60451       1        6   2.800000    OI10       1   \n",
       "4262      60894  60896       2        6   3.800000    OI10       1   \n",
       "4263      61020  61023       3        7   3.000000    OI10       1   \n",
       "\n",
       "     Needle name         x         y         z  \n",
       "0            TOB -0.045284 -0.011390  0.038247  \n",
       "1            TOB -0.045284 -0.011390  0.038247  \n",
       "2            TOB -0.045284 -0.011390  0.038247  \n",
       "3            TOB -0.045284 -0.011390  0.038247  \n",
       "4            TOB -0.045284 -0.011390  0.038247  \n",
       "...          ...       ...       ...       ...  \n",
       "4259          OI -0.064296 -0.040335  0.040313  \n",
       "4260          OI -0.064296 -0.040335  0.040313  \n",
       "4261          OI -0.064296 -0.040335  0.040313  \n",
       "4262          OI -0.064296 -0.040335  0.040313  \n",
       "4263          OI -0.064296 -0.040335  0.040313  \n",
       "\n",
       "[4264 rows x 11 columns]"
      ]
     },
     "execution_count": 130,
     "metadata": {},
     "output_type": "execute_result"
    }
   ],
   "source": [
    "features"
   ]
  },
  {
   "cell_type": "markdown",
   "metadata": {},
   "source": [
    "* We can create a new column. For example, we will create a new column called Instantaneous frequency, that is:\n",
    "```\n",
    "1/Mean_peak * sfreq * 0.5\n",
    "```"
   ]
  },
  {
   "cell_type": "code",
   "execution_count": 133,
   "metadata": {},
   "outputs": [
    {
     "name": "stdout",
     "output_type": "stream",
     "text": [
      "Index(['Beginning', 'End', 'Length', 'N peaks', 'Mean Peak', 'Channel',\n",
      "       'Needle', 'Needle name', 'x', 'y', 'z', 'Inst freq'],\n",
      "      dtype='object')\n"
     ]
    }
   ],
   "source": [
    "features['Inst freq'] = 1/features['Mean Peak'] * sfreq * 0.5\n",
    "\n",
    "print(features.columns)"
   ]
  },
  {
   "cell_type": "markdown",
   "metadata": {},
   "source": [
    "* Now, we will create a new column called \"band\" depending on the instant frequency. If the instant frequency is lower than 180, then the band will be equal to ripple and if it is higher, it will be equal to fast ripple"
   ]
  },
  {
   "cell_type": "code",
   "execution_count": 141,
   "metadata": {},
   "outputs": [
    {
     "name": "stderr",
     "output_type": "stream",
     "text": [
      "/home/cmigliorelli/anaconda3/envs/mne/lib/python3.7/site-packages/ipykernel_launcher.py:4: SettingWithCopyWarning: \n",
      "A value is trying to be set on a copy of a slice from a DataFrame\n",
      "\n",
      "See the caveats in the documentation: http://pandas.pydata.org/pandas-docs/stable/user_guide/indexing.html#returning-a-view-versus-a-copy\n",
      "  after removing the cwd from sys.path.\n"
     ]
    }
   ],
   "source": [
    "# First, we create a band called ripple for all the events\n",
    "features['Band'] = 'Ripple' \n",
    "# Now we filter and assign to fast ripple band\n",
    "features['Band'][features['Inst freq']>180] = 'Fast Ripple'"
   ]
  },
  {
   "cell_type": "markdown",
   "metadata": {},
   "source": [
    "* We can obtain descriptive statistics of all our columns"
   ]
  },
  {
   "cell_type": "code",
   "execution_count": 142,
   "metadata": {},
   "outputs": [
    {
     "data": {
      "text/plain": [
       "Beginning    31906.424953\n",
       "End          31909.279784\n",
       "Length           2.854831\n",
       "N peaks          5.102017\n",
       "Mean Peak        4.152662\n",
       "Needle           0.380159\n",
       "x               -0.052909\n",
       "y               -0.028272\n",
       "z                0.039347\n",
       "Inst freq      128.635352\n",
       "dtype: float64"
      ]
     },
     "execution_count": 142,
     "metadata": {},
     "output_type": "execute_result"
    }
   ],
   "source": [
    "features.mean()"
   ]
  },
  {
   "cell_type": "markdown",
   "metadata": {},
   "source": [
    "* And we can filter by features"
   ]
  },
  {
   "cell_type": "code",
   "execution_count": 143,
   "metadata": {},
   "outputs": [
    {
     "data": {
      "text/html": [
       "<div>\n",
       "<style scoped>\n",
       "    .dataframe tbody tr th:only-of-type {\n",
       "        vertical-align: middle;\n",
       "    }\n",
       "\n",
       "    .dataframe tbody tr th {\n",
       "        vertical-align: top;\n",
       "    }\n",
       "\n",
       "    .dataframe thead th {\n",
       "        text-align: right;\n",
       "    }\n",
       "</style>\n",
       "<table border=\"1\" class=\"dataframe\">\n",
       "  <thead>\n",
       "    <tr style=\"text-align: right;\">\n",
       "      <th></th>\n",
       "      <th>Beginning</th>\n",
       "      <th>End</th>\n",
       "      <th>Length</th>\n",
       "      <th>N peaks</th>\n",
       "      <th>Mean Peak</th>\n",
       "      <th>Channel</th>\n",
       "      <th>Needle</th>\n",
       "      <th>Needle name</th>\n",
       "      <th>x</th>\n",
       "      <th>y</th>\n",
       "      <th>z</th>\n",
       "      <th>Inst freq</th>\n",
       "      <th>Band</th>\n",
       "    </tr>\n",
       "  </thead>\n",
       "  <tbody>\n",
       "    <tr>\n",
       "      <th>3</th>\n",
       "      <td>1213</td>\n",
       "      <td>1222</td>\n",
       "      <td>9</td>\n",
       "      <td>5</td>\n",
       "      <td>5.000000</td>\n",
       "      <td>TOB1</td>\n",
       "      <td>0</td>\n",
       "      <td>TOB</td>\n",
       "      <td>-0.045284</td>\n",
       "      <td>-0.011390</td>\n",
       "      <td>0.038247</td>\n",
       "      <td>102.400000</td>\n",
       "      <td>Ripple</td>\n",
       "    </tr>\n",
       "    <tr>\n",
       "      <th>4</th>\n",
       "      <td>4134</td>\n",
       "      <td>4138</td>\n",
       "      <td>4</td>\n",
       "      <td>5</td>\n",
       "      <td>4.500000</td>\n",
       "      <td>TOB1</td>\n",
       "      <td>0</td>\n",
       "      <td>TOB</td>\n",
       "      <td>-0.045284</td>\n",
       "      <td>-0.011390</td>\n",
       "      <td>0.038247</td>\n",
       "      <td>113.777778</td>\n",
       "      <td>Ripple</td>\n",
       "    </tr>\n",
       "    <tr>\n",
       "      <th>7</th>\n",
       "      <td>5122</td>\n",
       "      <td>5126</td>\n",
       "      <td>4</td>\n",
       "      <td>6</td>\n",
       "      <td>3.400000</td>\n",
       "      <td>TOB1</td>\n",
       "      <td>0</td>\n",
       "      <td>TOB</td>\n",
       "      <td>-0.045284</td>\n",
       "      <td>-0.011390</td>\n",
       "      <td>0.038247</td>\n",
       "      <td>150.588235</td>\n",
       "      <td>Ripple</td>\n",
       "    </tr>\n",
       "    <tr>\n",
       "      <th>10</th>\n",
       "      <td>7748</td>\n",
       "      <td>7753</td>\n",
       "      <td>5</td>\n",
       "      <td>6</td>\n",
       "      <td>4.000000</td>\n",
       "      <td>TOB1</td>\n",
       "      <td>0</td>\n",
       "      <td>TOB</td>\n",
       "      <td>-0.045284</td>\n",
       "      <td>-0.011390</td>\n",
       "      <td>0.038247</td>\n",
       "      <td>128.000000</td>\n",
       "      <td>Ripple</td>\n",
       "    </tr>\n",
       "    <tr>\n",
       "      <th>11</th>\n",
       "      <td>7754</td>\n",
       "      <td>7760</td>\n",
       "      <td>6</td>\n",
       "      <td>7</td>\n",
       "      <td>3.666667</td>\n",
       "      <td>TOB1</td>\n",
       "      <td>0</td>\n",
       "      <td>TOB</td>\n",
       "      <td>-0.045284</td>\n",
       "      <td>-0.011390</td>\n",
       "      <td>0.038247</td>\n",
       "      <td>139.636364</td>\n",
       "      <td>Ripple</td>\n",
       "    </tr>\n",
       "    <tr>\n",
       "      <th>...</th>\n",
       "      <td>...</td>\n",
       "      <td>...</td>\n",
       "      <td>...</td>\n",
       "      <td>...</td>\n",
       "      <td>...</td>\n",
       "      <td>...</td>\n",
       "      <td>...</td>\n",
       "      <td>...</td>\n",
       "      <td>...</td>\n",
       "      <td>...</td>\n",
       "      <td>...</td>\n",
       "      <td>...</td>\n",
       "      <td>...</td>\n",
       "    </tr>\n",
       "    <tr>\n",
       "      <th>4233</th>\n",
       "      <td>53341</td>\n",
       "      <td>53345</td>\n",
       "      <td>4</td>\n",
       "      <td>5</td>\n",
       "      <td>4.250000</td>\n",
       "      <td>OI10</td>\n",
       "      <td>1</td>\n",
       "      <td>OI</td>\n",
       "      <td>-0.064296</td>\n",
       "      <td>-0.040335</td>\n",
       "      <td>0.040313</td>\n",
       "      <td>120.470588</td>\n",
       "      <td>Ripple</td>\n",
       "    </tr>\n",
       "    <tr>\n",
       "      <th>4234</th>\n",
       "      <td>53401</td>\n",
       "      <td>53405</td>\n",
       "      <td>4</td>\n",
       "      <td>5</td>\n",
       "      <td>4.500000</td>\n",
       "      <td>OI10</td>\n",
       "      <td>1</td>\n",
       "      <td>OI</td>\n",
       "      <td>-0.064296</td>\n",
       "      <td>-0.040335</td>\n",
       "      <td>0.040313</td>\n",
       "      <td>113.777778</td>\n",
       "      <td>Ripple</td>\n",
       "    </tr>\n",
       "    <tr>\n",
       "      <th>4242</th>\n",
       "      <td>56336</td>\n",
       "      <td>56340</td>\n",
       "      <td>4</td>\n",
       "      <td>5</td>\n",
       "      <td>4.000000</td>\n",
       "      <td>OI10</td>\n",
       "      <td>1</td>\n",
       "      <td>OI</td>\n",
       "      <td>-0.064296</td>\n",
       "      <td>-0.040335</td>\n",
       "      <td>0.040313</td>\n",
       "      <td>128.000000</td>\n",
       "      <td>Ripple</td>\n",
       "    </tr>\n",
       "    <tr>\n",
       "      <th>4246</th>\n",
       "      <td>57344</td>\n",
       "      <td>57348</td>\n",
       "      <td>4</td>\n",
       "      <td>4</td>\n",
       "      <td>5.666667</td>\n",
       "      <td>OI10</td>\n",
       "      <td>1</td>\n",
       "      <td>OI</td>\n",
       "      <td>-0.064296</td>\n",
       "      <td>-0.040335</td>\n",
       "      <td>0.040313</td>\n",
       "      <td>90.352941</td>\n",
       "      <td>Ripple</td>\n",
       "    </tr>\n",
       "    <tr>\n",
       "      <th>4255</th>\n",
       "      <td>59511</td>\n",
       "      <td>59515</td>\n",
       "      <td>4</td>\n",
       "      <td>6</td>\n",
       "      <td>4.000000</td>\n",
       "      <td>OI10</td>\n",
       "      <td>1</td>\n",
       "      <td>OI</td>\n",
       "      <td>-0.064296</td>\n",
       "      <td>-0.040335</td>\n",
       "      <td>0.040313</td>\n",
       "      <td>128.000000</td>\n",
       "      <td>Ripple</td>\n",
       "    </tr>\n",
       "  </tbody>\n",
       "</table>\n",
       "<p>966 rows × 13 columns</p>\n",
       "</div>"
      ],
      "text/plain": [
       "      Beginning    End  Length  N peaks  Mean Peak Channel  Needle  \\\n",
       "3          1213   1222       9        5   5.000000    TOB1       0   \n",
       "4          4134   4138       4        5   4.500000    TOB1       0   \n",
       "7          5122   5126       4        6   3.400000    TOB1       0   \n",
       "10         7748   7753       5        6   4.000000    TOB1       0   \n",
       "11         7754   7760       6        7   3.666667    TOB1       0   \n",
       "...         ...    ...     ...      ...        ...     ...     ...   \n",
       "4233      53341  53345       4        5   4.250000    OI10       1   \n",
       "4234      53401  53405       4        5   4.500000    OI10       1   \n",
       "4242      56336  56340       4        5   4.000000    OI10       1   \n",
       "4246      57344  57348       4        4   5.666667    OI10       1   \n",
       "4255      59511  59515       4        6   4.000000    OI10       1   \n",
       "\n",
       "     Needle name         x         y         z   Inst freq    Band  \n",
       "3            TOB -0.045284 -0.011390  0.038247  102.400000  Ripple  \n",
       "4            TOB -0.045284 -0.011390  0.038247  113.777778  Ripple  \n",
       "7            TOB -0.045284 -0.011390  0.038247  150.588235  Ripple  \n",
       "10           TOB -0.045284 -0.011390  0.038247  128.000000  Ripple  \n",
       "11           TOB -0.045284 -0.011390  0.038247  139.636364  Ripple  \n",
       "...          ...       ...       ...       ...         ...     ...  \n",
       "4233          OI -0.064296 -0.040335  0.040313  120.470588  Ripple  \n",
       "4234          OI -0.064296 -0.040335  0.040313  113.777778  Ripple  \n",
       "4242          OI -0.064296 -0.040335  0.040313  128.000000  Ripple  \n",
       "4246          OI -0.064296 -0.040335  0.040313   90.352941  Ripple  \n",
       "4255          OI -0.064296 -0.040335  0.040313  128.000000  Ripple  \n",
       "\n",
       "[966 rows x 13 columns]"
      ]
     },
     "execution_count": 143,
     "metadata": {},
     "output_type": "execute_result"
    }
   ],
   "source": [
    "features[features['Length']>3]"
   ]
  },
  {
   "cell_type": "code",
   "execution_count": 144,
   "metadata": {},
   "outputs": [
    {
     "data": {
      "text/html": [
       "<div>\n",
       "<style scoped>\n",
       "    .dataframe tbody tr th:only-of-type {\n",
       "        vertical-align: middle;\n",
       "    }\n",
       "\n",
       "    .dataframe tbody tr th {\n",
       "        vertical-align: top;\n",
       "    }\n",
       "\n",
       "    .dataframe thead th {\n",
       "        text-align: right;\n",
       "    }\n",
       "</style>\n",
       "<table border=\"1\" class=\"dataframe\">\n",
       "  <thead>\n",
       "    <tr style=\"text-align: right;\">\n",
       "      <th></th>\n",
       "      <th>Beginning</th>\n",
       "      <th>End</th>\n",
       "      <th>Length</th>\n",
       "      <th>N peaks</th>\n",
       "      <th>Mean Peak</th>\n",
       "      <th>Channel</th>\n",
       "      <th>Needle</th>\n",
       "      <th>Needle name</th>\n",
       "      <th>x</th>\n",
       "      <th>y</th>\n",
       "      <th>z</th>\n",
       "      <th>Inst freq</th>\n",
       "      <th>Band</th>\n",
       "    </tr>\n",
       "  </thead>\n",
       "  <tbody>\n",
       "    <tr>\n",
       "      <th>3116</th>\n",
       "      <td>257</td>\n",
       "      <td>259</td>\n",
       "      <td>2</td>\n",
       "      <td>4</td>\n",
       "      <td>5.333333</td>\n",
       "      <td>OI3</td>\n",
       "      <td>1</td>\n",
       "      <td>OI</td>\n",
       "      <td>-0.066149</td>\n",
       "      <td>-0.015926</td>\n",
       "      <td>0.039316</td>\n",
       "      <td>96.000000</td>\n",
       "      <td>Ripple</td>\n",
       "    </tr>\n",
       "    <tr>\n",
       "      <th>3117</th>\n",
       "      <td>678</td>\n",
       "      <td>680</td>\n",
       "      <td>2</td>\n",
       "      <td>5</td>\n",
       "      <td>4.250000</td>\n",
       "      <td>OI3</td>\n",
       "      <td>1</td>\n",
       "      <td>OI</td>\n",
       "      <td>-0.066149</td>\n",
       "      <td>-0.015926</td>\n",
       "      <td>0.039316</td>\n",
       "      <td>120.470588</td>\n",
       "      <td>Ripple</td>\n",
       "    </tr>\n",
       "    <tr>\n",
       "      <th>3118</th>\n",
       "      <td>702</td>\n",
       "      <td>704</td>\n",
       "      <td>2</td>\n",
       "      <td>6</td>\n",
       "      <td>3.600000</td>\n",
       "      <td>OI3</td>\n",
       "      <td>1</td>\n",
       "      <td>OI</td>\n",
       "      <td>-0.066149</td>\n",
       "      <td>-0.015926</td>\n",
       "      <td>0.039316</td>\n",
       "      <td>142.222222</td>\n",
       "      <td>Ripple</td>\n",
       "    </tr>\n",
       "    <tr>\n",
       "      <th>3119</th>\n",
       "      <td>1261</td>\n",
       "      <td>1263</td>\n",
       "      <td>2</td>\n",
       "      <td>5</td>\n",
       "      <td>3.500000</td>\n",
       "      <td>OI3</td>\n",
       "      <td>1</td>\n",
       "      <td>OI</td>\n",
       "      <td>-0.066149</td>\n",
       "      <td>-0.015926</td>\n",
       "      <td>0.039316</td>\n",
       "      <td>146.285714</td>\n",
       "      <td>Ripple</td>\n",
       "    </tr>\n",
       "    <tr>\n",
       "      <th>3120</th>\n",
       "      <td>1890</td>\n",
       "      <td>1892</td>\n",
       "      <td>2</td>\n",
       "      <td>5</td>\n",
       "      <td>4.250000</td>\n",
       "      <td>OI3</td>\n",
       "      <td>1</td>\n",
       "      <td>OI</td>\n",
       "      <td>-0.066149</td>\n",
       "      <td>-0.015926</td>\n",
       "      <td>0.039316</td>\n",
       "      <td>120.470588</td>\n",
       "      <td>Ripple</td>\n",
       "    </tr>\n",
       "    <tr>\n",
       "      <th>...</th>\n",
       "      <td>...</td>\n",
       "      <td>...</td>\n",
       "      <td>...</td>\n",
       "      <td>...</td>\n",
       "      <td>...</td>\n",
       "      <td>...</td>\n",
       "      <td>...</td>\n",
       "      <td>...</td>\n",
       "      <td>...</td>\n",
       "      <td>...</td>\n",
       "      <td>...</td>\n",
       "      <td>...</td>\n",
       "      <td>...</td>\n",
       "    </tr>\n",
       "    <tr>\n",
       "      <th>3326</th>\n",
       "      <td>60528</td>\n",
       "      <td>60529</td>\n",
       "      <td>1</td>\n",
       "      <td>4</td>\n",
       "      <td>4.333333</td>\n",
       "      <td>OI3</td>\n",
       "      <td>1</td>\n",
       "      <td>OI</td>\n",
       "      <td>-0.066149</td>\n",
       "      <td>-0.015926</td>\n",
       "      <td>0.039316</td>\n",
       "      <td>118.153846</td>\n",
       "      <td>Ripple</td>\n",
       "    </tr>\n",
       "    <tr>\n",
       "      <th>3327</th>\n",
       "      <td>60547</td>\n",
       "      <td>60549</td>\n",
       "      <td>2</td>\n",
       "      <td>6</td>\n",
       "      <td>3.600000</td>\n",
       "      <td>OI3</td>\n",
       "      <td>1</td>\n",
       "      <td>OI</td>\n",
       "      <td>-0.066149</td>\n",
       "      <td>-0.015926</td>\n",
       "      <td>0.039316</td>\n",
       "      <td>142.222222</td>\n",
       "      <td>Ripple</td>\n",
       "    </tr>\n",
       "    <tr>\n",
       "      <th>3328</th>\n",
       "      <td>60574</td>\n",
       "      <td>60579</td>\n",
       "      <td>5</td>\n",
       "      <td>7</td>\n",
       "      <td>3.666667</td>\n",
       "      <td>OI3</td>\n",
       "      <td>1</td>\n",
       "      <td>OI</td>\n",
       "      <td>-0.066149</td>\n",
       "      <td>-0.015926</td>\n",
       "      <td>0.039316</td>\n",
       "      <td>139.636364</td>\n",
       "      <td>Ripple</td>\n",
       "    </tr>\n",
       "    <tr>\n",
       "      <th>3329</th>\n",
       "      <td>60933</td>\n",
       "      <td>60934</td>\n",
       "      <td>1</td>\n",
       "      <td>6</td>\n",
       "      <td>3.400000</td>\n",
       "      <td>OI3</td>\n",
       "      <td>1</td>\n",
       "      <td>OI</td>\n",
       "      <td>-0.066149</td>\n",
       "      <td>-0.015926</td>\n",
       "      <td>0.039316</td>\n",
       "      <td>150.588235</td>\n",
       "      <td>Ripple</td>\n",
       "    </tr>\n",
       "    <tr>\n",
       "      <th>3330</th>\n",
       "      <td>61221</td>\n",
       "      <td>61230</td>\n",
       "      <td>9</td>\n",
       "      <td>7</td>\n",
       "      <td>3.833333</td>\n",
       "      <td>OI3</td>\n",
       "      <td>1</td>\n",
       "      <td>OI</td>\n",
       "      <td>-0.066149</td>\n",
       "      <td>-0.015926</td>\n",
       "      <td>0.039316</td>\n",
       "      <td>133.565217</td>\n",
       "      <td>Ripple</td>\n",
       "    </tr>\n",
       "  </tbody>\n",
       "</table>\n",
       "<p>215 rows × 13 columns</p>\n",
       "</div>"
      ],
      "text/plain": [
       "      Beginning    End  Length  N peaks  Mean Peak Channel  Needle  \\\n",
       "3116        257    259       2        4   5.333333     OI3       1   \n",
       "3117        678    680       2        5   4.250000     OI3       1   \n",
       "3118        702    704       2        6   3.600000     OI3       1   \n",
       "3119       1261   1263       2        5   3.500000     OI3       1   \n",
       "3120       1890   1892       2        5   4.250000     OI3       1   \n",
       "...         ...    ...     ...      ...        ...     ...     ...   \n",
       "3326      60528  60529       1        4   4.333333     OI3       1   \n",
       "3327      60547  60549       2        6   3.600000     OI3       1   \n",
       "3328      60574  60579       5        7   3.666667     OI3       1   \n",
       "3329      60933  60934       1        6   3.400000     OI3       1   \n",
       "3330      61221  61230       9        7   3.833333     OI3       1   \n",
       "\n",
       "     Needle name         x         y         z   Inst freq    Band  \n",
       "3116          OI -0.066149 -0.015926  0.039316   96.000000  Ripple  \n",
       "3117          OI -0.066149 -0.015926  0.039316  120.470588  Ripple  \n",
       "3118          OI -0.066149 -0.015926  0.039316  142.222222  Ripple  \n",
       "3119          OI -0.066149 -0.015926  0.039316  146.285714  Ripple  \n",
       "3120          OI -0.066149 -0.015926  0.039316  120.470588  Ripple  \n",
       "...          ...       ...       ...       ...         ...     ...  \n",
       "3326          OI -0.066149 -0.015926  0.039316  118.153846  Ripple  \n",
       "3327          OI -0.066149 -0.015926  0.039316  142.222222  Ripple  \n",
       "3328          OI -0.066149 -0.015926  0.039316  139.636364  Ripple  \n",
       "3329          OI -0.066149 -0.015926  0.039316  150.588235  Ripple  \n",
       "3330          OI -0.066149 -0.015926  0.039316  133.565217  Ripple  \n",
       "\n",
       "[215 rows x 13 columns]"
      ]
     },
     "execution_count": 144,
     "metadata": {},
     "output_type": "execute_result"
    }
   ],
   "source": [
    "features[features['Channel']=='OI3']"
   ]
  },
  {
   "cell_type": "markdown",
   "metadata": {},
   "source": [
    "### 4.2. Statistical data visualization.\n",
    "With Pandas (dataframes) and seaborn, is easy to plot relationships between variables. We will see some examples\n",
    "\n",
    "* Boxplot:"
   ]
  },
  {
   "cell_type": "code",
   "execution_count": 135,
   "metadata": {},
   "outputs": [
    {
     "data": {
      "image/png": "[encoded data removed]",
      "text/plain": [
       "<Figure size 432x288 with 1 Axes>"
      ]
     },
     "metadata": {},
     "output_type": "display_data"
    }
   ],
   "source": [
    "# We can change the color pallete, and the style, see seaborn webpage\n",
    "sns.set(style=\"ticks\", palette=\"pastel\") \n",
    "sns.boxplot(x=\"Needle name\", y=\"Inst freq\", palette=[\"m\", \"g\"],\n",
    "            data=features)\n",
    "sns.despine(offset=10, trim=True)\n"
   ]
  },
  {
   "cell_type": "markdown",
   "metadata": {},
   "source": [
    "* Boxplot with hues"
   ]
  },
  {
   "cell_type": "code",
   "execution_count": 150,
   "metadata": {},
   "outputs": [
    {
     "data": {
      "image/png": "[encoded data removed]",
      "text/plain": [
       "<Figure size 432x288 with 1 Axes>"
      ]
     },
     "metadata": {},
     "output_type": "display_data"
    }
   ],
   "source": [
    "sns.set(style=\"ticks\", palette=\"muted\") \n",
    "sns.boxplot(x=\"Needle name\", y=\"Inst freq\", hue = \"Band\",\n",
    "            data=features, showmeans=True)\n",
    "sns.despine(offset=10, trim=True)"
   ]
  },
  {
   "cell_type": "markdown",
   "metadata": {},
   "source": [
    "* Pairplot (scatterplots and distribution plots)"
   ]
  },
  {
   "cell_type": "code",
   "execution_count": 151,
   "metadata": {},
   "outputs": [
    {
     "name": "stderr",
     "output_type": "stream",
     "text": [
      "/home/cmigliorelli/anaconda3/envs/mne/lib/python3.7/site-packages/statsmodels/nonparametric/kde.py:447: RuntimeWarning: invalid value encountered in greater\n",
      "  X = X[np.logical_and(X > clip[0], X < clip[1])] # won't work for two columns.\n",
      "/home/cmigliorelli/anaconda3/envs/mne/lib/python3.7/site-packages/statsmodels/nonparametric/kde.py:447: RuntimeWarning: invalid value encountered in less\n",
      "  X = X[np.logical_and(X > clip[0], X < clip[1])] # won't work for two columns.\n"
     ]
    },
    {
     "data": {
      "text/plain": [
       "<seaborn.axisgrid.PairGrid at 0x7f2630146390>"
      ]
     },
     "execution_count": 151,
     "metadata": {},
     "output_type": "execute_result"
    },
    {
     "data": {
      "image/png": "[encoded data removed]",
      "text/plain": [
       "<Figure size 616.675x540 with 12 Axes>"
      ]
     },
     "metadata": {},
     "output_type": "display_data"
    }
   ],
   "source": [
    "sns.pairplot(features,  palette=\"husl\",\n",
    "                 vars=[\"Length\", \"N peaks\", \"Inst freq\"], hue = \"Needle name\")"
   ]
  },
  {
   "cell_type": "code",
   "execution_count": null,
   "metadata": {},
   "outputs": [],
   "source": []
  }
 ],
 "metadata": {
  "colab": {
   "collapsed_sections": [],
   "include_colab_link": true,
   "name": "signal_processing_with_python.ipynb",
   "provenance": [],
   "toc_visible": true
  },
  "kernelspec": {
   "display_name": "Python 3",
   "language": "python",
   "name": "python3"
  },
  "language_info": {
   "codemirror_mode": {
    "name": "ipython",
    "version": 3
   },
   "file_extension": ".py",
   "mimetype": "text/x-python",
   "name": "python",
   "nbconvert_exporter": "python",
   "pygments_lexer": "ipython3",
   "version": "3.7.4"
  }
 },
 "nbformat": 4,
 "nbformat_minor": 4
}
